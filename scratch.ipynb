{
 "cells": [
  {
   "cell_type": "markdown",
   "id": "cf32a704",
   "metadata": {},
   "source": [
    "# API请求AI"
   ]
  },
  {
   "cell_type": "code",
   "execution_count": 1,
   "id": "82137719",
   "metadata": {},
   "outputs": [
    {
     "name": "stdout",
     "output_type": "stream",
     "text": [
      "Hello! I’m doing well, thank you. How can I assist you today?\n"
     ]
    }
   ],
   "source": [
    "import yaml\n",
    "from utils.call_apis import OpenAIAPI\n",
    "\n",
    "with open(\"my_config.yaml\", \"r\") as f:\n",
    "    config = yaml.safe_load(f)\n",
    "openai_config = config[\"openai\"]\n",
    "api = OpenAIAPI(api_base=openai_config[\"api_base\"], api_key=openai_config[\"api_key\"])\n",
    "print(api.call_api(\"Hello, how are you?\"))"
   ]
  }
 ],
 "metadata": {
  "kernelspec": {
   "display_name": "lil",
   "language": "python",
   "name": "python3"
  },
  "language_info": {
   "codemirror_mode": {
    "name": "ipython",
    "version": 3
   },
   "file_extension": ".py",
   "mimetype": "text/x-python",
   "name": "python",
   "nbconvert_exporter": "python",
   "pygments_lexer": "ipython3",
   "version": "3.11.11"
  }
 },
 "nbformat": 4,
 "nbformat_minor": 5
}
