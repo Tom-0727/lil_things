{
 "cells": [
  {
   "cell_type": "markdown",
   "id": "cf32a704",
   "metadata": {},
   "source": [
    "# API请求AI"
   ]
  },
  {
   "cell_type": "code",
   "execution_count": null,
   "id": "82137719",
   "metadata": {},
   "outputs": [],
   "source": [
    "import yaml\n",
    "from utils.call_apis import OpenAIAPI\n",
    "\n",
    "with open(\"my_config.yaml\", \"r\") as f:\n",
    "    config = yaml.safe_load(f)\n",
    "openai_config = config[\"openai\"]\n",
    "api = OpenAIAPI(api_base=openai_config[\"api_base\"], api_key=openai_config[\"api_key\"])\n",
    "# print(api.call_api(\"Hello, how are you?\", model_name=\"gpt-4o-mini\"))"
   ]
  },
  {
   "cell_type": "code",
   "execution_count": null,
   "id": "4819e367",
   "metadata": {},
   "outputs": [],
   "source": [
    "from prompts.tmp import gen_search_plan_for_browser_use_openai\n",
    "\n",
    "task = gen_search_plan_for_browser_use_openai(question=\"According to Google Finance, when was the first year the Apple stock went above $50 (without adjusting for stock split)?\")\n",
    "\n",
    "print(api.call_api(task, \"o3\"))\n"
   ]
  }
 ],
 "metadata": {
  "kernelspec": {
   "display_name": "lil",
   "language": "python",
   "name": "python3"
  },
  "language_info": {
   "codemirror_mode": {
    "name": "ipython",
    "version": 3
   },
   "file_extension": ".py",
   "mimetype": "text/x-python",
   "name": "python",
   "nbconvert_exporter": "python",
   "pygments_lexer": "ipython3",
   "version": "3.11.11"
  }
 },
 "nbformat": 4,
 "nbformat_minor": 5
}
